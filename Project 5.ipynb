{
 "cells": [
  {
   "cell_type": "markdown",
   "metadata": {},
   "source": [
    "# CS 2150 Computer Project 5: Graph Representation and Algorithms\n",
    "\n",
    "**Goals:** Gain experience in representing graphs in code, using Python's `dict` data structure, and writing a simple graph algorithm.\n",
    "\n",
    "**Instructions:** Carefully read all of the text in the Markdown cells; these give you information about the assignment. **Numbered, heading-level text at the bottom of the document describes the project deliverables.** Cells requesting the implementation of a function also include `expectEqual` statements. Use these statements as a guide to the expected output of your function; if the assertions fail, then the function is invalid.\n",
    "\n",
    "**Note: Include each deliverable directly underneath the markdown cell which asks for it.** \n",
    "\n",
    "**Note also: when we receive your notebook, the first thing we will do is clear its memory and run it from the beginning.** You are responsible for ensuring that when we do this, the entire notebook executes and computes the desired results. Notebooks which fail to execute will typically receive low grades.\n",
    "\n",
    "**Note this too: hard-coded answers, even if correct, will be awarded few if any points.** Your answers should be generated programmatically, not derived offline and then hard-coded."
   ]
  },
  {
   "cell_type": "markdown",
   "metadata": {},
   "source": [
    "**To test your code, we are providing the following functions which will verify basic formatting for your adjacency lists.** If tests in the notebook fail, something is wrong. However, the converse may not be true -- passing tests does not guarantee that your code is implementing the exactly correct functionality."
   ]
  },
  {
   "cell_type": "code",
   "execution_count": 9,
   "metadata": {},
   "outputs": [],
   "source": [
    "def expectEqual(a, b):\n",
    "    if a != b :\n",
    "        print('FAIL expected:', b, ' got:', a)\n",
    "        \n",
    "def checkUndirected(adjList) :\n",
    "    for node in adjList :\n",
    "        for neighbor in adjList[node] :\n",
    "            try :\n",
    "                if not node in adjList[neighbor] :\n",
    "                    print('FAIL: graph is not undirected: '+str(adjList))\n",
    "                    return\n",
    "            except KeyError :\n",
    "                print('FAIL: missing node in adjacency list for graph '+str(adjList))\n",
    "                return\n",
    "\n",
    "def checkSelfLoops(adjList) :\n",
    "    for node in adjList :\n",
    "        if node in adjList[node] :\n",
    "            print('FAIL: graph has a self-loop: '+str(adjList))\n",
    "            return "
   ]
  },
  {
   "cell_type": "markdown",
   "metadata": {},
   "source": [
    "# The Python `dict` object\n",
    "\n",
    "In this project, we will implement a particular type of adjacency list using Python's `dict` object (`dict` is short for \"dictionary\"). At a very high level, a `dict` is like a list that can be indexed by any object. (At a low level, a `dict` is a hash map.)\n",
    "\n",
    "You can initialize an empty `dict` using curly braces:"
   ]
  },
  {
   "cell_type": "code",
   "execution_count": 10,
   "metadata": {},
   "outputs": [],
   "source": [
    "my_dict = {}"
   ]
  },
  {
   "cell_type": "markdown",
   "metadata": {},
   "source": [
    "A `dict` is a little bit like a list, in the sense that it contains some objects. Recall that in a list, each integer index is associated with a value. In a `dict`, the indices don't have to be integers -- they can be any object (strictly: any \"hashable\" object -- see documentation for more details). In a `dict`, we call the references \"keys.\" To assign something to a key in a dict, use square brackets. Keys don't all have to be integers, or even the same datatype!"
   ]
  },
  {
   "cell_type": "code",
   "execution_count": 11,
   "metadata": {},
   "outputs": [
    {
     "name": "stdout",
     "output_type": "stream",
     "text": [
      "{'A': 234, 5: 'some string'}\n"
     ]
    }
   ],
   "source": [
    "my_dict['A'] = 234\n",
    "my_dict[5] = \"some string\"\n",
    "print(my_dict)"
   ]
  },
  {
   "cell_type": "markdown",
   "metadata": {},
   "source": [
    "The values in a `dict` can be any Python object. In the next cell, we add a new key/value pair whose value is a set:"
   ]
  },
  {
   "cell_type": "code",
   "execution_count": 12,
   "metadata": {},
   "outputs": [
    {
     "name": "stdout",
     "output_type": "stream",
     "text": [
      "{'A': 234, 5: 'some string', 'a set': {1, 2, 3}}\n",
      "{'A': 234, 5: 'some string', 'a set': {1, 2, 3, 4}}\n"
     ]
    }
   ],
   "source": [
    "my_dict['a set']={1,2,3}\n",
    "print(my_dict)\n",
    "my_dict['a set'].add(4)\n",
    "print(my_dict)"
   ]
  },
  {
   "cell_type": "markdown",
   "metadata": {},
   "source": [
    "The dictionary `my_dict` now has three keys. If you want to iterate over the keys in a `dict`, you can use a for loop like this:"
   ]
  },
  {
   "cell_type": "code",
   "execution_count": 13,
   "metadata": {},
   "outputs": [
    {
     "name": "stdout",
     "output_type": "stream",
     "text": [
      "the key: A\tis associated with the value: 234\n",
      "the key: 5\tis associated with the value: some string\n",
      "the key: a set\tis associated with the value: {1, 2, 3, 4}\n"
     ]
    }
   ],
   "source": [
    "for key in my_dict :\n",
    "    print('the key: ' + str(key) + '\\tis associated with the value: ' + str(my_dict[key]))"
   ]
  },
  {
   "cell_type": "markdown",
   "metadata": {},
   "source": [
    "That's enough to get you started, but to complete Deliverable #1, you might want to take a look at the [official documentation](https://docs.python.org/3.8/tutorial/datastructures.html#dictionaries) or do some [searching for tutorials.](https://www.google.com/search?client=firefox-b-1-d&q=python+dict+tutorial)"
   ]
  },
  {
   "cell_type": "markdown",
   "metadata": {},
   "source": [
    "# Deliverable #1: Practice using Python `dict` objects\n",
    "\n",
    "Create a function called `list_to_dict` which accepts a list of pairs $(a_1,b_1),(a_2,b_2),\\dots,(a_n,b_n)$ and returns a dictionary with keys $a_1,a_2,\\dots,a_n$. The dictionary values should be `set` objects; the value associated with key $a_i$ should be the set $\\{b_k:a_k=a_i\\}$. For example, the input list `[(1,2),(3,4),(5,6)]` should return the dictionary `{1: {2}, 3: {4}, 5: {6}}`. Input pairs could contain strings or numbers. Furthermore, you should not assume that the keys $a_i$ are distinct; your code should handle repeated keys by adding extra values to the associated set. For example, the input list `[(1,'a'),(1,3)]` should return the dictionary `{1: {'a', 3}}`. A concise description of the function's action is described in the function's docstring below, and several tests are provided."
   ]
  },
  {
   "cell_type": "code",
   "execution_count": 14,
   "metadata": {},
   "outputs": [],
   "source": [
    "def list_to_dict(input_list) :\n",
    "    '''\n",
    "    Input:  list of 0 or more pairs [(a_1,b_1),...,(a_n,b_n)]; each a_i, b_i can be an integer or a string\n",
    "    Output: dict with keys a_1,a_2,...,a_n.\n",
    "            The value associated with key a_i is the set {b_k such that a_k=a_i}\n",
    "    '''\n",
    "    return_dict = {}\n",
    "    # complete function definition here!\n",
    "    \n",
    "    for pairs in input_list:\n",
    "        if pairs[0] in return_dict:\n",
    "            return_dict[pairs[0]].add(pairs[1])\n",
    "        else:\n",
    "            return_dict[pairs[0]] = {pairs[1]}\n",
    "    return return_dict\n",
    "\n",
    "expectEqual(list_to_dict([]),{})\n",
    "expectEqual(list_to_dict([(1,2),(3,4)]),{1:{2},3:{4}})\n",
    "expectEqual(list_to_dict([(1,2),(1,3)]),{1: {2, 3}})\n",
    "expectEqual(list_to_dict([('a',7),(10,'b'),('strings can be keys too','they sure can')]),{'a': {7}, 10: {'b'}, 'strings can be keys too': {'they sure can'}})"
   ]
  },
  {
   "cell_type": "markdown",
   "metadata": {},
   "source": [
    "# Graph Representation\n",
    "\n",
    "As discussed in Lecture 23, the way we represent graphs in a computer matters. In this project, you'll write a function that converts from an edge-list representation into an adjacency-list representation. \n",
    "\n",
    "Recall that an edge-list representation simply writes down an unstructured list of all the edges in a graph. While compact, this type of representation doesn't work very well with algorithms. To fix this, one option is to use *adjacency-lists* -- which explicitly contain a list of each node's neighbors. In this project, we will use Python's `dict` object to implement adjacency lists.\n",
    "\n",
    "In this project, we use the following representations:\n",
    "\n",
    "### Formats\n",
    "**Edge list:** a `list` of edges represented as vertex pairs. For graph $(V,E)$ with $V=\\{v_1,\\dots,v_n\\}$, the edge list representation is of the form `[(vi,vj),...,(vk,vl)]|`, where an edge exists between vertices `vi` and `vj`, an edge exists between vertices `vk` and `vl`, and so on.\n",
    "\n",
    "**Adjacency list:** a `dict` with vertex/neighbor-set key/value pairs. That is, each vertex is a key, and that key's value is a *set* of that vertex's neighbors in the graph. For graph $(V,E)$ with $V=\\{v_1,\\dots,v_n\\}$, the adjacency list representation is of the form `{v1 : {v1's neighbors}, v2 : {v2's neighbors},...}`."
   ]
  },
  {
   "cell_type": "markdown",
   "metadata": {},
   "source": [
    "**To help visualize graphs, we are providing the `drawGraph` function for your unlimited use.** See the function's docstring for information about how to use it. For your convenience, we also provide two examples of how it can be used below to draw graphs."
   ]
  },
  {
   "cell_type": "code",
   "execution_count": 15,
   "metadata": {},
   "outputs": [],
   "source": [
    "import networkx as nx\n",
    "import matplotlib.pyplot as plt\n",
    "\n",
    "def drawGraph(adjList,actually_draw=True) :\n",
    "    G = nx.Graph()\n",
    "    for node in adjList :\n",
    "        G.add_node(node)\n",
    "        G.add_edges_from([(node,neighbor) for neighbor in adjList[node]])\n",
    "    if actually_draw :\n",
    "        nx.draw_spring(G, with_labels=True, font_weight='bold')"
   ]
  },
  {
   "cell_type": "markdown",
   "metadata": {},
   "source": [
    "### Examples\n",
    "\n",
    "In each code cell, we give an edge list, the corresponding adjacency list, and then use the provided `drawGraph` function to visualize the graph.\n",
    "Note in each that the edge list is more compact than the adjacency list; this is partly because the adjacency list explicitly represents each edge twice.\n",
    "For instance in Example 1, there is an edge between A and D; the adjacency list represents this by saying \"one of A's neighbors is D,\" and also \"one of D's neighbors is A.\""
   ]
  },
  {
   "cell_type": "code",
   "execution_count": 16,
   "metadata": {},
   "outputs": [
    {
     "data": {
      "image/png": "[encoded data removed]",
      "text/plain": [
       "<Figure size 432x288 with 1 Axes>"
      ]
     },
     "metadata": {},
     "output_type": "display_data"
    }
   ],
   "source": [
    "# Example 1\n",
    "Gexample1_edgeList = [('A','B'),\n",
    "                      ('C','D'),\n",
    "                      ('A','D')]\n",
    "Gexample1_adjList = {'A': {'B', 'D'}, \n",
    "                     'B': {'A'}, \n",
    "                     'C': {'D'}, \n",
    "                     'D': {'A', 'C'}}\n",
    "drawGraph(Gexample1_adjList)"
   ]
  },
  {
   "cell_type": "code",
   "execution_count": 17,
   "metadata": {},
   "outputs": [
    {
     "data": {
      "image/png": "[encoded data removed]",
      "text/plain": [
       "<Figure size 432x288 with 1 Axes>"
      ]
     },
     "metadata": {},
     "output_type": "display_data"
    }
   ],
   "source": [
    "# Example 2\n",
    "Gexample2_edgeList = [('A','B'),\n",
    "                      ('C','B'),\n",
    "                      ('A','D'),\n",
    "                      ('A','C')]\n",
    "Gexample2_adjList = {'A':{'B','C','D'},\n",
    "                     'B':{'A','C'},\n",
    "                     'C':{'A','B'},\n",
    "                     'D':{'A'}}\n",
    "drawGraph(Gexample2_adjList)"
   ]
  },
  {
   "cell_type": "markdown",
   "metadata": {},
   "source": [
    "### Check Functions\n",
    "In the next cell, we provide an example of how to use the check functions. If the checks pass, nothing is printed -- otherwise a simple message will print and we give three examples of this."
   ]
  },
  {
   "cell_type": "code",
   "execution_count": 18,
   "metadata": {},
   "outputs": [
    {
     "name": "stdout",
     "output_type": "stream",
     "text": [
      "FAIL: graph has a self-loop: {'A': {'A'}}\n",
      "FAIL: graph is not undirected: {'A': {'B'}, 'B': {}}\n",
      "FAIL: missing node in adjacency list for graph {'A': {'B'}}\n"
     ]
    }
   ],
   "source": [
    "# Adjacency list is implemented as Python Dict, with node:neighborset key:val pairs.\n",
    "G_selfloop = {'A':{'A'}} # this is a graph with a self-loop -- which we don't want\n",
    "checkSelfLoops(G_selfloop)\n",
    "\n",
    "G_Directed = {'A':{'B'}, # this is a graph with an edge from A to B, but no edge from B to A. Also don't want.\n",
    "              'B':{}}\n",
    "checkUndirected(G_Directed)\n",
    "\n",
    "G_Directed2 = {'A':{'B'}} # this is an adjacency list that doesn't have an entry for node B. Not good.\n",
    "checkUndirected(G_Directed2)"
   ]
  },
  {
   "cell_type": "markdown",
   "metadata": {},
   "source": [
    "# Deliverable #2: Convert Edge-list representation to Adjacency-List representation\n",
    "\n",
    "Now let's take our newfound knowledge of Python dictionaries and our definitions of graph representations and use it to represent graphs. Create a function called `edgeList_to_adjList` which accepts a list of edges (that is, vertex pairs) and returns an adjacency-list representation of the same graph according to the formatting described above. Several tests are provided to help you check your work. If your function works properly, the `MysteryGraph` will be visualized and show you a neat pattern."
   ]
  },
  {
   "cell_type": "code",
   "execution_count": 19,
   "metadata": {},
   "outputs": [
    {
     "data": {
      "image/png": "[encoded data removed]",
      "text/plain": [
       "<Figure size 432x288 with 1 Axes>"
      ]
     },
     "metadata": {},
     "output_type": "display_data"
    }
   ],
   "source": [
    "def edgeList_to_adjList(edgeList) :\n",
    "    adjList = {}\n",
    "    # complete function definition here!\n",
    "    \n",
    "    for pair in edgeList:\n",
    "        if pair[0] in adjList:\n",
    "            adjList[pair[0]].add(pair[1])\n",
    "        else:\n",
    "            adjList[pair[0]] = {pair[1]}\n",
    "            \n",
    "        if pair[1] in adjList:\n",
    "            adjList[pair[1]].add(pair[0])\n",
    "        else:\n",
    "            adjList[pair[1]] = {pair[0]}\n",
    "    return adjList\n",
    "\n",
    "\n",
    "expectEqual(edgeList_to_adjList([]),{})\n",
    "expectEqual(edgeList_to_adjList([('A','B')]),{'A': {'B'}, 'B': {'A'}})\n",
    "expectEqual(edgeList_to_adjList([('A','B'),('C','D')]),{'A': {'B'}, 'B': {'A'}, 'C': {'D'}, 'D': {'C'}})\n",
    "expectEqual(edgeList_to_adjList([('A','B'),('C','D'),('B','D')]),{'A': {'B'}, 'B': {'D', 'A'}, 'C': {'D'}, 'D': {'C', 'B'}})\n",
    "expectEqual(edgeList_to_adjList([('A','B'),('A','C'),('A','D'),('C','D'),('B','C'),('B','D')]),{'A': {'D', 'C', 'B'}, 'B': {'D', 'A', 'C'}, 'C': {'D', 'A', 'B'}, 'D': {'A', 'C', 'B'}})\n",
    "\n",
    "\n",
    "MysteryGraph = [('A','B'),('A','C'),('A','D'),('A','E'),('A','F'),('B','C'),('B','D'),('B','E'),('B','G'),('C','D'),('C','E'),('C','H'),('D','E'),('D','I'),('E','J')]\n",
    "checkSelfLoops(edgeList_to_adjList(MysteryGraph))\n",
    "checkUndirected(edgeList_to_adjList(MysteryGraph))\n",
    "drawGraph(edgeList_to_adjList(MysteryGraph)) # a fancy graph should be visualized if you get this right"
   ]
  },
  {
   "cell_type": "markdown",
   "metadata": {},
   "source": [
    "# Deliverable #3: Determine if a given graph is Eulerian\n",
    "Recall the a graph is called *Eulerian* if it is possible to walk around the graph, visiting every edge exactly once, and returning to your starting vertex. This was discussed in class, and [more information can be found here.](https://en.wikipedia.org/wiki/Eulerian_path)\n",
    "\n",
    "One way to determine that a graph is Eulerian is to actually find an eulerian circuit, or determine that no such circuit exists. **Another much simpler way was discussed in class.**\n",
    "\n",
    "Complete the function definition below for function `eulerian`. The function's input should be a graph represented as **an edge list**. If the input graph is Eulerian, the function should output `True`, and if the input graph is not Eulerian, the function should output `False`. Note: you can assume that the input graph is connected (that is, that a path exists between every pair of vertices). Use whatever technique you want to determine Eulerianness!"
   ]
  },
  {
   "cell_type": "code",
   "execution_count": null,
   "metadata": {},
   "outputs": [],
   "source": [
    "def eulerian(edgeList) :\n",
    "    '''\n",
    "    Determine whether input graph is Eulerian.\n",
    "    Input: Simple, undirected, connected graph represented by an edge list.\n",
    "    Output: True if the input graph is Eulerian, False if the input graph is not Eulerian.\n",
    "    '''\n",
    "    \n",
    "    # complete function definition here!\n",
    "    \n",
    "    adjList = edgeList_to_adjList(edgeList)\n",
    "    \n",
    "    # if not eulerian\n",
    "    for edge in adjList\n",
    "     # if number of visited \n",
    "        if len(adjList[edge]) % 2 != 0:\n",
    "            return False\n",
    "    \n",
    "    \n",
    "    return True\n",
    "\n",
    "\n",
    "expectEqual(eulerian([('A','B')]),False)\n",
    "expectEqual(eulerian([('A','B'),('B','C')]),False)\n",
    "expectEqual(eulerian([('A','B'),('B','C'),('A','C')]),True)\n",
    "expectEqual(eulerian([('A','B'),('B','C'),('A','D'),('C','D')]),True)\n",
    "expectEqual(eulerian([('A','B'),('B','C'),('A','D'),('C','D'),('B','D'),('D','E'),('E','B')]),True)\n",
    "expectEqual(eulerian([('A','B'),('A','C'),('A','D'),('A','E'),('B','C'),('B','D'),('B','E'),('C','D'),('C','E'),('D','E')]),True)\n",
    "expectEqual(eulerian(MysteryGraph),False)"
   ]
  },
  {
   "cell_type": "code",
   "execution_count": null,
   "metadata": {},
   "outputs": [],
   "source": []
  }
 ],
 "metadata": {
  "kernelspec": {
   "display_name": "Python 3 (ipykernel)",
   "language": "python",
   "name": "python3"
  },
  "language_info": {
   "codemirror_mode": {
    "name": "ipython",
    "version": 3
   },
   "file_extension": ".py",
   "mimetype": "text/x-python",
   "name": "python",
   "nbconvert_exporter": "python",
   "pygments_lexer": "ipython3",
   "version": "3.9.7"
  }
 },
 "nbformat": 4,
 "nbformat_minor": 2
}
